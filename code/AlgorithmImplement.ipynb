{
 "cells": [
  {
   "cell_type": "code",
   "execution_count": 294,
   "metadata": {},
   "outputs": [],
   "source": [
    "import numpy as np\n",
    "import math"
   ]
  },
  {
   "cell_type": "code",
   "execution_count": 295,
   "metadata": {},
   "outputs": [],
   "source": [
    "# algorithm 16\n",
    "def CARATHEODORY(P, u):\n",
    "    \"\"\"\n",
    "    author: Zhongxuan Liu\n",
    "    :param P: a numpy array P of size n (points) times d (dimensions)\n",
    "    :param u: weights function\n",
    "    :return: a Caratheodory set (S, w)\n",
    "    Computation time: O(n^2 d^2)\n",
    "    \"\"\"\n",
    "    d = P.shape[1]\n",
    "    while True:\n",
    "        n = np.count_nonzero(u)\n",
    "        u = u / np.sum(u)\n",
    "        u_plus_idx = u > 0\n",
    "        if n <= d + 1:\n",
    "            return P, u\n",
    "\n",
    "        A = P[u_plus_idx]\n",
    "        P1 = np.outer(A[0], np.ones(A.shape[0] - 1))\n",
    "        A = A[1:].T - P1\n",
    "\n",
    "        _, _, V = np.linalg.svd(A)\n",
    "        v = V[-1]\n",
    "        v = np.insert(v, 0, -1 * sum(v))\n",
    "        v_plus_idx = v > 0\n",
    "        alpha = np.min(u[u_plus_idx][v_plus_idx] / v[v_plus_idx])\n",
    "\n",
    "        w = np.zeros(P.shape[0])\n",
    "        w_plus = u[u_plus_idx] - alpha * v\n",
    "        w_plus[np.argmin(w_plus)] = 0.0\n",
    "        w[u_plus_idx] = w_plus\n",
    "        u = w"
   ]
  },
  {
   "cell_type": "code",
   "execution_count": 296,
   "metadata": {},
   "outputs": [],
   "source": [
    "# algorithm 1\n",
    "def FAST_CARATHEODORY_SET(P,P_index,u,k):\n",
    "    # author: Shanshan Chen\n",
    "    # P n*d array\n",
    "    # u n array, weight vector for P\n",
    "    d = P.shape[1]\n",
    "    if(k < d+2):\n",
    "        print(\"Warning: k < d+2 in FAST_CARATHEODORY_SET.\")\n",
    "        return P,P_index,u\n",
    "    # 1.remove all points with zero weight\n",
    "    weight_zero_index = u > 0\n",
    "    P = P[weight_zero_index]\n",
    "    P_index = P_index[weight_zero_index]\n",
    "    # 2. P is already small\n",
    "    n = P.shape[0]\n",
    "    if(n <= d+1 or n < k):\n",
    "        return P,P_index,u\n",
    "    # 4. partition of P into k subsets\n",
    "    t_lower = int(n/k)\n",
    "    x = [i for i in range(0,k)]\n",
    "    k_clusters_lable = np.array([],dtype = np.int32).reshape(0,1)\n",
    "    for i in range(0,t_lower):\n",
    "        k_clusters_lable = np.append(k_clusters_lable, x)\n",
    "    rest = [i for i in range(0,n-t_lower*k)]\n",
    "    k_clusters_lable = np.append(k_clusters_lable,rest)\n",
    "    # 5.the weighted mean of P_k\n",
    "    cls_w_means = np.array([],dtype = np.float64).reshape(0,d)\n",
    "    cls_ws = np.array([],dtype = np.float64).reshape(0,1)\n",
    "    for i in range(0,k):\n",
    "        temp = k_clusters_lable == i\n",
    "        P_i = P[temp]\n",
    "        u_i = u[temp]\n",
    "        denominator = np.sum(u_i)\n",
    "        numerator =  np.dot(P_i.transpose(),u_i)\n",
    "        cls_w_means = np.vstack((cls_w_means,numerator/denominator))\n",
    "        cls_ws = np.append(cls_ws,denominator)\n",
    "    # 8. algorithm 16\n",
    "    selected_means, selected_ws = CARATHEODORY(cls_w_means,cls_ws) \n",
    "    selected_index = np.where(selected_ws > 0)[0]\n",
    "    # 9. the union over all selected clusters\n",
    "    C = np.array([],dtype = np.float64).reshape(0,d)\n",
    "    C_index = np.array([],dtype = np.int32).reshape(0,1)\n",
    "    w = np.array([],dtype = np.float64).reshape(0,1)\n",
    "    for i in selected_index:\n",
    "        temp = k_clusters_lable == i\n",
    "        P_i = P[temp]\n",
    "        index_i = P_index[temp]\n",
    "        u_i = u[temp]\n",
    "        w_i = selected_ws[i]*u_i/np.sum(u_i)\n",
    "        C = np.vstack((C,P_i))\n",
    "        C_index = np.append(C_index,index_i)\n",
    "        w = np.append(w,w_i)\n",
    "    # 12. recursive call\n",
    "    C,C_index,w = FAST_CARATHEODORY_SET(C,C_index,w,k)\n",
    "    return(C,C_index,w)"
   ]
  },
  {
   "cell_type": "code",
   "execution_count": 297,
   "metadata": {},
   "outputs": [],
   "source": [
    "# algorithm 2\n",
    "def CARATHEODORY_MATRIX(A,k):\n",
    "    # author: Shanshan Chen\n",
    "    n,d = A.shape\n",
    "    if(k < d**2+2):\n",
    "        print(\"Warning: k < d**2+2 in CARATHEODORY_MATRIX.\")\n",
    "        return A\n",
    "    P = np.array([],dtype = np.float64).reshape(0,d**2)\n",
    "    for i in range(0,n):\n",
    "        a_i = A[i].reshape(-1,1)\n",
    "        temp = np.dot(a_i,a_i.transpose()).reshape(1,-1)\n",
    "        P = np.vstack((P,temp))\n",
    "    P_index = np.arange(0,n)\n",
    "    u = np.ones(n)/n\n",
    "    C,C_index,w = FAST_CARATHEODORY_SET(P,P_index,u,k)\n",
    "    S = np.array([],dtype = np.float64).reshape(0,d)\n",
    "    for i in range(0,C.shape[0]):\n",
    "        S_i = np.sqrt(n*w[i])*A[C_index[i]]\n",
    "        S = np.vstack((S,S_i))\n",
    "    return S"
   ]
  },
  {
   "cell_type": "code",
   "execution_count": 298,
   "metadata": {},
   "outputs": [],
   "source": [
    "# algorithm 5\n",
    "def LMS_CORESET(A, b, m, k):\n",
    "    \"\"\"\n",
    "    author: Zhongxuan Liu\n",
    "    modified by: Shanshan Chen\n",
    "    This function computes a coreset for LMS solvers that use m-fold cross validation.\n",
    "    The result satisfies ||Ax - b|| = ||Cx - y||.\n",
    "    :param A: A matrix in R^{n * d}\n",
    "    :param b: A vector in R^n\n",
    "    :param m: A number of cross-validation folds\n",
    "    :param k: An integer in range(1, n+1) for numerical accuracy/speed trade-off\n",
    "    :return: A matrix C in R^{O(md^2)*d} and a vector y in R^n\n",
    "    \"\"\"\n",
    "    d = A.shape[1]\n",
    "    b = b.reshape(-1,1)\n",
    "    A_prime = np.append(A, b,axis = 1)\n",
    "    batch = A_prime.shape[0] // m\n",
    "\n",
    "    S = CARATHEODORY_MATRIX(A_prime[:batch], k)\n",
    "    S = S.T\n",
    "    for i in range(1, m):\n",
    "        Ai = A_prime[i * batch:(i + 1) * batch]\n",
    "        Si = CARATHEODORY_MATRIX(Ai, k)\n",
    "        S = np.hstack((S, Si.T))\n",
    "    S = S.T\n",
    "    C, y = S[:, :d], S[:, -1]\n",
    "    return C, y"
   ]
  },
  {
   "cell_type": "code",
   "execution_count": 299,
   "metadata": {},
   "outputs": [],
   "source": [
    "# test case for LMS_CORESET\n",
    "A = np.arange(100).reshape(50,2)\n",
    "x = np.array([1,2])\n",
    "b = np.dot(A,x)\n",
    "C,y = LMS_CORESET(A, b, 3, 12)"
   ]
  },
  {
   "cell_type": "code",
   "execution_count": 290,
   "metadata": {},
   "outputs": [
    {
     "data": {
      "text/plain": [
       "array([  2.753814  ,  73.34149978,  48.19445122,  92.65252447,\n",
       "        19.63187925, 125.06372394,  26.62225252,  29.11352093,\n",
       "        37.76192979, 110.82235785,  51.17624145, 237.84714216,\n",
       "       202.7138877 ,  91.2608333 , 238.47287623,  98.07380037,\n",
       "       173.3487394 , 287.06171029, 162.94276494, 159.12237645,\n",
       "       375.36770485,  86.87236594, 131.24735599, 200.27707406,\n",
       "       318.54352301, 273.95264171, 402.17739666, 284.57427061,\n",
       "       290.6151416 , 465.49451446])"
      ]
     },
     "execution_count": 290,
     "metadata": {},
     "output_type": "execute_result"
    }
   ],
   "source": [
    "np.dot(C,x)"
   ]
  },
  {
   "cell_type": "code",
   "execution_count": 292,
   "metadata": {},
   "outputs": [
    {
     "data": {
      "text/plain": [
       "array([  2.753814  ,  73.34149978,  48.19445122,  92.65252447,\n",
       "        19.63187925, 125.06372394,  26.62225252,  29.11352093,\n",
       "        37.76192979, 110.82235785,  51.17624145, 237.84714216,\n",
       "       202.7138877 ,  91.2608333 , 238.47287623,  98.07380037,\n",
       "       173.3487394 , 287.06171029, 162.94276494, 159.12237645,\n",
       "       375.36770485,  86.87236594, 131.24735599, 200.27707406,\n",
       "       318.54352301, 273.95264171, 402.17739666, 284.57427061,\n",
       "       290.6151416 , 465.49451446])"
      ]
     },
     "execution_count": 292,
     "metadata": {},
     "output_type": "execute_result"
    }
   ],
   "source": [
    "y"
   ]
  },
  {
   "cell_type": "code",
   "execution_count": 224,
   "metadata": {
    "scrolled": true
   },
   "outputs": [],
   "source": [
    "# test case for FAST_CARATHEODORY_SET\n",
    "P = np.arange(24).reshape(12,2)\n",
    "P_index = np.arange(12)\n",
    "u = np.ones(12)/12\n",
    "k = 5\n",
    "C,C_index,w = FAST_CARATHEODORY_SET(P,P_index,u,k)"
   ]
  },
  {
   "cell_type": "code",
   "execution_count": 225,
   "metadata": {},
   "outputs": [
    {
     "data": {
      "text/plain": [
       "array([11., 12.])"
      ]
     },
     "execution_count": 225,
     "metadata": {},
     "output_type": "execute_result"
    }
   ],
   "source": [
    "np.dot(P.transpose(),u)"
   ]
  },
  {
   "cell_type": "code",
   "execution_count": 226,
   "metadata": {},
   "outputs": [
    {
     "data": {
      "text/plain": [
       "array([11., 12.])"
      ]
     },
     "execution_count": 226,
     "metadata": {},
     "output_type": "execute_result"
    }
   ],
   "source": [
    "np.dot(C.transpose(),w)"
   ]
  },
  {
   "cell_type": "code",
   "execution_count": 227,
   "metadata": {
    "scrolled": true
   },
   "outputs": [],
   "source": [
    "# test case for CARATHEODORY_MATRIX\n",
    "A = np.arange(100).reshape(50,2)\n",
    "k = 7\n",
    "S = CARATHEODORY_MATRIX(A,k)"
   ]
  },
  {
   "cell_type": "code",
   "execution_count": 228,
   "metadata": {},
   "outputs": [
    {
     "data": {
      "text/plain": [
       "array([[161700, 164150],\n",
       "       [164150, 166650]])"
      ]
     },
     "execution_count": 228,
     "metadata": {},
     "output_type": "execute_result"
    }
   ],
   "source": [
    "np.dot(A.transpose(),A)"
   ]
  },
  {
   "cell_type": "code",
   "execution_count": 229,
   "metadata": {},
   "outputs": [
    {
     "data": {
      "text/plain": [
       "array([[161700., 164150.],\n",
       "       [164150., 166650.]])"
      ]
     },
     "execution_count": 229,
     "metadata": {},
     "output_type": "execute_result"
    }
   ],
   "source": [
    "np.dot(S.transpose(),S)"
   ]
  },
  {
   "cell_type": "code",
   "execution_count": null,
   "metadata": {},
   "outputs": [],
   "source": []
  }
 ],
 "metadata": {
  "kernelspec": {
   "display_name": "Python 3",
   "language": "python",
   "name": "python3"
  },
  "language_info": {
   "codemirror_mode": {
    "name": "ipython",
    "version": 3
   },
   "file_extension": ".py",
   "mimetype": "text/x-python",
   "name": "python",
   "nbconvert_exporter": "python",
   "pygments_lexer": "ipython3",
   "version": "3.8.5"
  }
 },
 "nbformat": 4,
 "nbformat_minor": 4
}
