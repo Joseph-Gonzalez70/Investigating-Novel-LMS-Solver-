{
 "cells": [
  {
   "cell_type": "markdown",
   "metadata": {},
   "source": [
    "# Car Purchasing Data Summary"
   ]
  },
  {
   "cell_type": "markdown",
   "metadata": {},
   "source": [
    "The car purchasing data comes from Kaggle and, on the data, the goal is to build a predictive model for the total amount that customers are willing to pay for a new car. This model could help for direct marketing. "
   ]
  },
  {
   "cell_type": "markdown",
   "metadata": {},
   "source": [
    "## Part 1: Formatting The Data Set"
   ]
  },
  {
   "cell_type": "code",
   "execution_count": 1,
   "metadata": {},
   "outputs": [],
   "source": [
    "# Libraries:\n",
    "import pandas as pd\n",
    "import numpy as np"
   ]
  },
  {
   "cell_type": "markdown",
   "metadata": {},
   "source": [
    "First, we import the data and check the column data types."
   ]
  },
  {
   "cell_type": "code",
   "execution_count": 2,
   "metadata": {},
   "outputs": [],
   "source": [
    "# Import the data set:\n",
    "path = \"../data/Car_Purchasing_Data.xls\"\n",
    "car_data = pd.read_csv(path)"
   ]
  },
  {
   "cell_type": "code",
   "execution_count": 3,
   "metadata": {},
   "outputs": [
    {
     "data": {
      "text/plain": [
       "Customer Name           object\n",
       "Customer e-mail         object\n",
       "Country                 object\n",
       "Gender                   int64\n",
       "Age                      int64\n",
       "Annual Salary          float64\n",
       "Credit Card Debt       float64\n",
       "Net Worth              float64\n",
       "Car Purchase Amount    float64\n",
       "dtype: object"
      ]
     },
     "execution_count": 3,
     "metadata": {},
     "output_type": "execute_result"
    }
   ],
   "source": [
    "# Check the data types:\n",
    "car_data.dtypes"
   ]
  },
  {
   "cell_type": "markdown",
   "metadata": {},
   "source": [
    "Before using the coreset algorithm on this data set, we remove the customer name, e-mail, and country fields. We also make Gender a boolean data type."
   ]
  },
  {
   "cell_type": "code",
   "execution_count": 4,
   "metadata": {},
   "outputs": [],
   "source": [
    "#Remove the object data type columns:\n",
    "car_data = car_data.iloc[:, 3:]\n",
    "\n",
    "# Make Gender a boolean:\n",
    "car_data.loc[:,\"Gender\"] = car_data.Gender.astype(\"bool\")"
   ]
  },
  {
   "cell_type": "code",
   "execution_count": 5,
   "metadata": {},
   "outputs": [
    {
     "name": "stdout",
     "output_type": "stream",
     "text": [
      "True\n",
      "True\n"
     ]
    }
   ],
   "source": [
    "# Check for missing values:\n",
    "print(all(car_data.isna() == False))\n",
    "print(all(car_data.isnull() == False))"
   ]
  },
  {
   "cell_type": "markdown",
   "metadata": {},
   "source": [
    "There are no missing values in the data set."
   ]
  },
  {
   "cell_type": "code",
   "execution_count": 6,
   "metadata": {},
   "outputs": [
    {
     "data": {
      "text/plain": [
       "(500, 6)"
      ]
     },
     "execution_count": 6,
     "metadata": {},
     "output_type": "execute_result"
    }
   ],
   "source": [
    "car_data.shape"
   ]
  },
  {
   "cell_type": "markdown",
   "metadata": {},
   "source": [
    "The data set that will go through the algorithms has 500 observation with 6 variables. The predictor variables include customer gender, age, annual salary, credit card debt, and networth. The response variable is car purchase amount. "
   ]
  },
  {
   "cell_type": "markdown",
   "metadata": {},
   "source": [
    "# Part 2: Descriptive Statistics"
   ]
  },
  {
   "cell_type": "markdown",
   "metadata": {},
   "source": [
    "In this section, we provided a \"concise\" overview of the data. First, we identify some summary statistics for each variable. The table below contains the counts, mean, standard deviation, percentiles, min, and max for each variable."
   ]
  },
  {
   "cell_type": "code",
   "execution_count": 7,
   "metadata": {},
   "outputs": [
    {
     "data": {
      "text/html": [
       "<div>\n",
       "<style scoped>\n",
       "    .dataframe tbody tr th:only-of-type {\n",
       "        vertical-align: middle;\n",
       "    }\n",
       "\n",
       "    .dataframe tbody tr th {\n",
       "        vertical-align: top;\n",
       "    }\n",
       "\n",
       "    .dataframe thead th {\n",
       "        text-align: right;\n",
       "    }\n",
       "</style>\n",
       "<table border=\"1\" class=\"dataframe\">\n",
       "  <thead>\n",
       "    <tr style=\"text-align: right;\">\n",
       "      <th></th>\n",
       "      <th>Age</th>\n",
       "      <th>Annual Salary</th>\n",
       "      <th>Credit Card Debt</th>\n",
       "      <th>Net Worth</th>\n",
       "      <th>Car Purchase Amount</th>\n",
       "    </tr>\n",
       "  </thead>\n",
       "  <tbody>\n",
       "    <tr>\n",
       "      <th>count</th>\n",
       "      <td>500</td>\n",
       "      <td>500</td>\n",
       "      <td>500</td>\n",
       "      <td>500</td>\n",
       "      <td>500</td>\n",
       "    </tr>\n",
       "    <tr>\n",
       "      <th>mean</th>\n",
       "      <td>46.224</td>\n",
       "      <td>62127.2</td>\n",
       "      <td>9607.65</td>\n",
       "      <td>431476</td>\n",
       "      <td>44209.8</td>\n",
       "    </tr>\n",
       "    <tr>\n",
       "      <th>std</th>\n",
       "      <td>7.99034</td>\n",
       "      <td>11703.4</td>\n",
       "      <td>3489.19</td>\n",
       "      <td>173537</td>\n",
       "      <td>10773.2</td>\n",
       "    </tr>\n",
       "    <tr>\n",
       "      <th>min</th>\n",
       "      <td>20</td>\n",
       "      <td>20000</td>\n",
       "      <td>100</td>\n",
       "      <td>20000</td>\n",
       "      <td>9000</td>\n",
       "    </tr>\n",
       "    <tr>\n",
       "      <th>25%</th>\n",
       "      <td>41</td>\n",
       "      <td>54392</td>\n",
       "      <td>7397.52</td>\n",
       "      <td>299824</td>\n",
       "      <td>37629.9</td>\n",
       "    </tr>\n",
       "    <tr>\n",
       "      <th>50%</th>\n",
       "      <td>46</td>\n",
       "      <td>62915.5</td>\n",
       "      <td>9655.04</td>\n",
       "      <td>426750</td>\n",
       "      <td>43997.8</td>\n",
       "    </tr>\n",
       "    <tr>\n",
       "      <th>75%</th>\n",
       "      <td>52</td>\n",
       "      <td>70117.9</td>\n",
       "      <td>11798.9</td>\n",
       "      <td>557324</td>\n",
       "      <td>51254.7</td>\n",
       "    </tr>\n",
       "    <tr>\n",
       "      <th>max</th>\n",
       "      <td>70</td>\n",
       "      <td>100000</td>\n",
       "      <td>20000</td>\n",
       "      <td>1e+06</td>\n",
       "      <td>80000</td>\n",
       "    </tr>\n",
       "  </tbody>\n",
       "</table>\n",
       "</div>"
      ],
      "text/plain": [
       "           Age Annual Salary Credit Card Debt Net Worth Car Purchase Amount\n",
       "count      500           500              500       500                 500\n",
       "mean    46.224       62127.2          9607.65    431476             44209.8\n",
       "std    7.99034       11703.4          3489.19    173537             10773.2\n",
       "min         20         20000              100     20000                9000\n",
       "25%         41         54392          7397.52    299824             37629.9\n",
       "50%         46       62915.5          9655.04    426750             43997.8\n",
       "75%         52       70117.9          11798.9    557324             51254.7\n",
       "max         70        100000            20000     1e+06               80000"
      ]
     },
     "execution_count": 7,
     "metadata": {},
     "output_type": "execute_result"
    }
   ],
   "source": [
    "car_data.describe().apply(lambda s: s.apply(lambda x: format(x, 'g')))"
   ]
  },
  {
   "cell_type": "markdown",
   "metadata": {},
   "source": [
    "Some interesting details are.... "
   ]
  },
  {
   "cell_type": "code",
   "execution_count": null,
   "metadata": {},
   "outputs": [],
   "source": []
  },
  {
   "cell_type": "code",
   "execution_count": null,
   "metadata": {},
   "outputs": [],
   "source": []
  },
  {
   "cell_type": "code",
   "execution_count": null,
   "metadata": {},
   "outputs": [],
   "source": []
  }
 ],
 "metadata": {
  "kernelspec": {
   "display_name": "Python 3",
   "language": "python",
   "name": "python3"
  },
  "language_info": {
   "codemirror_mode": {
    "name": "ipython",
    "version": 3
   },
   "file_extension": ".py",
   "mimetype": "text/x-python",
   "name": "python",
   "nbconvert_exporter": "python",
   "pygments_lexer": "ipython3",
   "version": "3.8.5"
  }
 },
 "nbformat": 4,
 "nbformat_minor": 4
}
