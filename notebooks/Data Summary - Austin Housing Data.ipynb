{
 "cells": [
  {
   "cell_type": "markdown",
   "metadata": {},
   "source": [
    "# Austin House Data Summary"
   ]
  },
  {
   "cell_type": "markdown",
   "metadata": {},
   "source": [
    "Data comes from Kaggle and the publisher's goal was to study Austin's housing market. The publisher claimed that Austin's housing market is \"one of the hottest markets in 2021\" and that researchers can use the data to predict home price."
   ]
  },
  {
   "cell_type": "markdown",
   "metadata": {},
   "source": [
    "## Part 1: Formatting The Data Set"
   ]
  },
  {
   "cell_type": "code",
   "execution_count": 40,
   "metadata": {},
   "outputs": [],
   "source": [
    "# Libraries:\n",
    "import pandas as pd\n",
    "import numpy as np"
   ]
  },
  {
   "cell_type": "code",
   "execution_count": 41,
   "metadata": {},
   "outputs": [],
   "source": [
    "path = \"../data/Austin_Housing_Data.csv\"\n",
    "house_data = pd.read_csv(path, header = 0)"
   ]
  },
  {
   "cell_type": "markdown",
   "metadata": {},
   "source": [
    "There are 15,171 observations and 47 columns in the data set. There are several columns that are object types. The coreset algorithms do not consider these data types. Therefore, we will remove the columns that are not floats or integer types. For now, we will also keep the boolean data types in the data set. If we find that the algorithm does no support booleans, we may remove them later."
   ]
  },
  {
   "cell_type": "code",
   "execution_count": 44,
   "metadata": {},
   "outputs": [],
   "source": [
    "# Identify numeric columns and remove columns with string and character types\n",
    "remove_columns = (house_data.dtypes == \"float64\") | (house_data.dtypes == \"int64\") | (house_data.dtypes == \"bool\") \n",
    "house_data = house_data.iloc[:, remove_columns.values]"
   ]
  },
  {
   "cell_type": "markdown",
   "metadata": {},
   "source": [
    "There are also a few columns that have numeric data types, but do not have numeric significance. For example, the difference between two zip codes or the max zip code does not have a numerical meaning. Therefore, we will remove these columns from the data set."
   ]
  },
  {
   "cell_type": "code",
   "execution_count": 45,
   "metadata": {},
   "outputs": [],
   "source": [
    "# Remove columns:\n",
    "remove_columns = ~house_data.columns.isin(['zpid', 'zipcode', 'latest_salemonth'])\n",
    "house_data = house_data.iloc[:, remove_columns]"
   ]
  },
  {
   "cell_type": "markdown",
   "metadata": {},
   "source": [
    "Lastly, we change the values for yearBuilt and latest_saleyear. Instead of the year, we alter the values to be the difference between the current year(data set publish year 2021) and the observation year. This means we will change yearBuilt to houseAge and latest_saleyear to numYearsLastSale(number of years since last sale). "
   ]
  },
  {
   "cell_type": "code",
   "execution_count": 46,
   "metadata": {},
   "outputs": [],
   "source": [
    "# Change the yearBuilt and latest_saleyear columns:\n",
    "house_data.loc[:,\"yearBuilt\"] = 2021 - house_data.loc[:,\"yearBuilt\"]\n",
    "house_data.loc[:,\"latest_saleyear\"] = 2021 - house_data.loc[:,\"latest_saleyear\"]\n",
    "# Change the column names:\n",
    "house_data = house_data.rename(columns = {'yearBuilt':'houseAge', 'latest_saleyear':'numYearsLastSale'})"
   ]
  },
  {
   "cell_type": "code",
   "execution_count": 47,
   "metadata": {},
   "outputs": [
    {
     "name": "stdout",
     "output_type": "stream",
     "text": [
      "True\n",
      "True\n"
     ]
    }
   ],
   "source": [
    "# Check for missing values: \n",
    "print(all(house_data.isna().any() == False))\n",
    "print(all(house_data.isnull().any() == False))"
   ]
  },
  {
   "cell_type": "code",
   "execution_count": 48,
   "metadata": {},
   "outputs": [
    {
     "data": {
      "text/plain": [
       "(15171, 37)"
      ]
     },
     "execution_count": 48,
     "metadata": {},
     "output_type": "execute_result"
    }
   ],
   "source": [
    "house_data.shape"
   ]
  },
  {
   "cell_type": "code",
   "execution_count": 49,
   "metadata": {},
   "outputs": [
    {
     "data": {
      "text/plain": [
       "latitude                      float64\n",
       "longitude                     float64\n",
       "propertyTaxRate               float64\n",
       "garageSpaces                    int64\n",
       "hasAssociation                   bool\n",
       "hasCooling                       bool\n",
       "hasGarage                        bool\n",
       "hasHeating                       bool\n",
       "hasSpa                           bool\n",
       "hasView                          bool\n",
       "parkingSpaces                   int64\n",
       "houseAge                        int64\n",
       "latestPrice                   float64\n",
       "numPriceChanges                 int64\n",
       "numYearsLastSale                int64\n",
       "numOfPhotos                     int64\n",
       "numOfAccessibilityFeatures      int64\n",
       "numOfAppliances                 int64\n",
       "numOfParkingFeatures            int64\n",
       "numOfPatioAndPorchFeatures      int64\n",
       "numOfSecurityFeatures           int64\n",
       "numOfWaterfrontFeatures         int64\n",
       "numOfWindowFeatures             int64\n",
       "numOfCommunityFeatures          int64\n",
       "lotSizeSqFt                   float64\n",
       "livingAreaSqFt                float64\n",
       "numOfPrimarySchools             int64\n",
       "numOfElementarySchools          int64\n",
       "numOfMiddleSchools              int64\n",
       "numOfHighSchools                int64\n",
       "avgSchoolDistance             float64\n",
       "avgSchoolRating               float64\n",
       "avgSchoolSize                   int64\n",
       "MedianStudentsPerTeacher        int64\n",
       "numOfBathrooms                float64\n",
       "numOfBedrooms                   int64\n",
       "numOfStories                    int64\n",
       "dtype: object"
      ]
     },
     "execution_count": 49,
     "metadata": {},
     "output_type": "execute_result"
    }
   ],
   "source": [
    "house_data.dtypes"
   ]
  },
  {
   "cell_type": "markdown",
   "metadata": {},
   "source": [
    "After some manipulation, the final data set for the algorithm contains 37 columns. There are no missing values in the data set. The final predictor vairables include latitude, longitude, property tax rate, garage spaces, parking spaces, house age, number of price changes, number of years since last sale, number of photos, number of accessibility features, number of appliances, number of parking features, number of patio and porch features, number of security features, number of waterfront features, number of window features, number of community features, lot size square feet, living area square feet, number of primary schools nearby, number of elementary schools nearby, number of middle schools nearby, number of high schools nearby, avgerage school distance, average school rating, average school size, median number of students per teacher, number of bathrooms, number of bedrooms, number of stories, has association, has cooling, has a garage, has heating, has a spa, and has a view. The response variable is lastest house price."
   ]
  },
  {
   "cell_type": "markdown",
   "metadata": {},
   "source": [
    "# Part 2: Descriptive Statistics"
   ]
  },
  {
   "cell_type": "code",
   "execution_count": null,
   "metadata": {},
   "outputs": [],
   "source": []
  },
  {
   "cell_type": "code",
   "execution_count": null,
   "metadata": {},
   "outputs": [],
   "source": []
  },
  {
   "cell_type": "code",
   "execution_count": null,
   "metadata": {},
   "outputs": [],
   "source": []
  },
  {
   "cell_type": "code",
   "execution_count": null,
   "metadata": {},
   "outputs": [],
   "source": []
  },
  {
   "cell_type": "code",
   "execution_count": null,
   "metadata": {},
   "outputs": [],
   "source": []
  },
  {
   "cell_type": "code",
   "execution_count": null,
   "metadata": {},
   "outputs": [],
   "source": []
  },
  {
   "cell_type": "code",
   "execution_count": null,
   "metadata": {},
   "outputs": [],
   "source": []
  },
  {
   "cell_type": "code",
   "execution_count": null,
   "metadata": {},
   "outputs": [],
   "source": []
  },
  {
   "cell_type": "code",
   "execution_count": null,
   "metadata": {},
   "outputs": [],
   "source": []
  },
  {
   "cell_type": "code",
   "execution_count": null,
   "metadata": {},
   "outputs": [],
   "source": []
  }
 ],
 "metadata": {
  "kernelspec": {
   "display_name": "Python 3",
   "language": "python",
   "name": "python3"
  },
  "language_info": {
   "codemirror_mode": {
    "name": "ipython",
    "version": 3
   },
   "file_extension": ".py",
   "mimetype": "text/x-python",
   "name": "python",
   "nbconvert_exporter": "python",
   "pygments_lexer": "ipython3",
   "version": "3.8.5"
  }
 },
 "nbformat": 4,
 "nbformat_minor": 4
}
